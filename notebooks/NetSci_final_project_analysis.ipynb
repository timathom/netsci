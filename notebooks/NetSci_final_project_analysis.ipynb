{
 "cells": [
  {
   "cell_type": "code",
   "execution_count": 1,
   "metadata": {
    "collapsed": false
   },
   "outputs": [
    {
     "name": "stdout",
     "output_type": "stream",
     "text": [
      "Populating the interactive namespace from numpy and matplotlib\n"
     ]
    }
   ],
   "source": [
    "import scipy.stats as stats\n",
    "import pandas as pd\n",
    "from urllib.request import urlopen\n",
    "\n",
    "import networkx as nx\n",
    "import numpy as np\n",
    "import matplotlib.mlab as mlab\n",
    "import matplotlib.pyplot as plt\n",
    "\n",
    "%matplotlib inline\n",
    "%pylab inline\n",
    "\n",
    "pd.options.display.max_columns = 500"
   ]
  },
  {
   "cell_type": "markdown",
   "metadata": {},
   "source": [
    "### Original network (raw)"
   ]
  },
  {
   "cell_type": "code",
   "execution_count": 68,
   "metadata": {
    "collapsed": false
   },
   "outputs": [
    {
     "name": "stdout",
     "output_type": "stream",
     "text": [
      "Name: \n",
      "Type: DiGraph\n",
      "Number of nodes: 10737\n",
      "Number of edges: 19819\n",
      "Average in degree:   1.8459\n",
      "Average out degree:   1.8459\n"
     ]
    }
   ],
   "source": [
    "GO = nx.read_graphml(urlopen(\"https://raw.githubusercontent.com/timathom/netsci/master/project/data/full/full.graphml\"))\n",
    "\n",
    "print(nx.info(GO))"
   ]
  },
  {
   "cell_type": "markdown",
   "metadata": {},
   "source": [
    "### Dedicator subgraph in raw network"
   ]
  },
  {
   "cell_type": "code",
   "execution_count": 71,
   "metadata": {
    "collapsed": false
   },
   "outputs": [
    {
     "name": "stdout",
     "output_type": "stream",
     "text": [
      "Name: \n",
      "Type: DiGraph\n",
      "Number of nodes: 1256\n",
      "Number of edges: 1647\n",
      "Average in degree:   1.3113\n",
      "Average out degree:   1.3113\n"
     ]
    }
   ],
   "source": [
    "GDO = nx.read_graphml(urlopen(\"https://raw.githubusercontent.com/timathom/netsci/master/project/data/reduced/dedicators/dedicators.raw_subgraph.graphml\"))\n",
    "\n",
    "print(nx.info(GDO))"
   ]
  },
  {
   "cell_type": "markdown",
   "metadata": {},
   "source": [
    "### Dedicator nodes in raw network"
   ]
  },
  {
   "cell_type": "code",
   "execution_count": 57,
   "metadata": {
    "collapsed": false
   },
   "outputs": [
    {
     "name": "stdout",
     "output_type": "stream",
     "text": [
      "Dedicators in raw network: 106\n"
     ]
    }
   ],
   "source": [
    "dedicators_orig = []\n",
    "\n",
    "dedicators_orig = [x for x in GO.nodes_iter() if GO.node[x][\"dedicator\"] == 1]\n",
    "\n",
    "print(\"Dedicators in raw network:\", len(dedicators_orig))"
   ]
  },
  {
   "cell_type": "markdown",
   "metadata": {},
   "source": [
    "### Original network (reduced)"
   ]
  },
  {
   "cell_type": "code",
   "execution_count": 60,
   "metadata": {
    "collapsed": false
   },
   "outputs": [
    {
     "name": "stdout",
     "output_type": "stream",
     "text": [
      "Name: \n",
      "Type: DiGraph\n",
      "Number of nodes: 2855\n",
      "Number of edges: 11798\n",
      "Average in degree:   4.1324\n",
      "Average out degree:   4.1324\n"
     ]
    }
   ],
   "source": [
    "GR = nx.read_graphml(urlopen(\"https://raw.githubusercontent.com/timathom/netsci/master/project/data/reduced/reduced.graphml\"))\n",
    "\n",
    "print(nx.info(GR))"
   ]
  },
  {
   "cell_type": "markdown",
   "metadata": {},
   "source": [
    "### Dedicator nodes in reduced network"
   ]
  },
  {
   "cell_type": "code",
   "execution_count": 58,
   "metadata": {
    "collapsed": false
   },
   "outputs": [
    {
     "name": "stdout",
     "output_type": "stream",
     "text": [
      "Dedicators in reduced network: 87\n"
     ]
    }
   ],
   "source": [
    "dedicators_reduced = []\n",
    "\n",
    "dedicators_reduced = [x for x in GR.nodes_iter() if GR.node[x][\"dedicator\"] == 1]\n",
    "\n",
    "print(\"Dedicators in reduced network:\", len(dedicators_reduced))"
   ]
  },
  {
   "cell_type": "markdown",
   "metadata": {},
   "source": [
    "### Dedicators subgraph (reduced network)"
   ]
  },
  {
   "cell_type": "code",
   "execution_count": 72,
   "metadata": {
    "collapsed": false
   },
   "outputs": [
    {
     "name": "stdout",
     "output_type": "stream",
     "text": [
      "Name: \n",
      "Type: DiGraph\n",
      "Number of nodes: 724\n",
      "Number of edges: 1131\n",
      "Average in degree:   1.5622\n",
      "Average out degree:   1.5622\n"
     ]
    }
   ],
   "source": [
    "GDR = nx.read_graphml(urlopen(\"https://raw.githubusercontent.com/timathom/netsci/master/project/data/reduced/dedicators/dedicators.reduced_subgraph.graphml\"))\n",
    "\n",
    "print(nx.info(GDR))"
   ]
  },
  {
   "cell_type": "markdown",
   "metadata": {},
   "source": [
    "### Derrida's first-step ego network"
   ]
  },
  {
   "cell_type": "code",
   "execution_count": 62,
   "metadata": {
    "collapsed": false
   },
   "outputs": [
    {
     "name": "stdout",
     "output_type": "stream",
     "text": [
      "Name: \n",
      "Type: DiGraph\n",
      "Number of nodes: 685\n",
      "Number of edges: 4648\n",
      "Average in degree:   6.7854\n",
      "Average out degree:   6.7854\n"
     ]
    }
   ],
   "source": [
    "GE = nx.read_graphml(urlopen(\"https://raw.githubusercontent.com/timathom/netsci/master/project/data/reduced/ego/ego.graphml\"))\n",
    "\n",
    "print(nx.info(GE))"
   ]
  },
  {
   "cell_type": "markdown",
   "metadata": {},
   "source": [
    "### Dedicator nodes in the ego network"
   ]
  },
  {
   "cell_type": "code",
   "execution_count": 63,
   "metadata": {
    "collapsed": false
   },
   "outputs": [
    {
     "name": "stdout",
     "output_type": "stream",
     "text": [
      "Dedicators in ego network: 44\n"
     ]
    }
   ],
   "source": [
    "dedicators_ego = []\n",
    "\n",
    "dedicators_ego = [x for x in GE.nodes_iter() if GE.node[x][\"dedicator\"] == 1]\n",
    "\n",
    "print(\"Dedicators in ego network:\", len(dedicators_ego))"
   ]
  },
  {
   "cell_type": "markdown",
   "metadata": {},
   "source": [
    "### Dedicators subgraph (ego network)"
   ]
  },
  {
   "cell_type": "code",
   "execution_count": 73,
   "metadata": {
    "collapsed": false
   },
   "outputs": [
    {
     "name": "stdout",
     "output_type": "stream",
     "text": [
      "Name: \n",
      "Type: DiGraph\n",
      "Number of nodes: 213\n",
      "Number of edges: 495\n",
      "Average in degree:   2.3239\n",
      "Average out degree:   2.3239\n"
     ]
    }
   ],
   "source": [
    "GDE = nx.read_graphml(urlopen(\"https://raw.githubusercontent.com/timathom/netsci/master/project/data/reduced/dedicators/dedicators.ego_subgraph.graphml\"))\n",
    "\n",
    "print(nx.info(GDE))"
   ]
  }
 ],
 "metadata": {
  "kernelspec": {
   "display_name": "Python 3",
   "language": "python",
   "name": "python3"
  },
  "language_info": {
   "codemirror_mode": {
    "name": "ipython",
    "version": 3
   },
   "file_extension": ".py",
   "mimetype": "text/x-python",
   "name": "python",
   "nbconvert_exporter": "python",
   "pygments_lexer": "ipython3",
   "version": "3.6.0"
  }
 },
 "nbformat": 4,
 "nbformat_minor": 2
}
