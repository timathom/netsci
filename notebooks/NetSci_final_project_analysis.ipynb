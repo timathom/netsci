{
 "cells": [
  {
   "cell_type": "code",
   "execution_count": 1,
   "metadata": {
    "collapsed": false
   },
   "outputs": [
    {
     "name": "stdout",
     "output_type": "stream",
     "text": [
      "Populating the interactive namespace from numpy and matplotlib\n"
     ]
    }
   ],
   "source": [
    "import scipy.stats as stats\n",
    "import pandas as pd\n",
    "from urllib.request import urlopen\n",
    "\n",
    "import networkx as nx\n",
    "import numpy as np\n",
    "import matplotlib.mlab as mlab\n",
    "import matplotlib.pyplot as plt\n",
    "\n",
    "%matplotlib inline\n",
    "%pylab inline\n",
    "\n",
    "pd.options.display.max_columns = 500"
   ]
  },
  {
   "cell_type": "markdown",
   "metadata": {},
   "source": [
    "### Reduced network"
   ]
  },
  {
   "cell_type": "code",
   "execution_count": 2,
   "metadata": {
    "collapsed": false
   },
   "outputs": [
    {
     "name": "stdout",
     "output_type": "stream",
     "text": [
      "Name: \n",
      "Type: DiGraph\n",
      "Number of nodes: 2855\n",
      "Number of edges: 11798\n",
      "Average in degree:   4.1324\n",
      "Average out degree:   4.1324\n"
     ]
    }
   ],
   "source": [
    "GR = nx.read_graphml(urlopen(\"https://raw.githubusercontent.com/timathom/netsci/master/project/data/reduced/reduced.graphml\"))\n",
    "\n",
    "print(nx.info(GR))"
   ]
  },
  {
   "cell_type": "markdown",
   "metadata": {},
   "source": [
    "### Derrida's first-step ego network"
   ]
  },
  {
   "cell_type": "code",
   "execution_count": 3,
   "metadata": {
    "collapsed": false
   },
   "outputs": [
    {
     "name": "stdout",
     "output_type": "stream",
     "text": [
      "Name: \n",
      "Type: DiGraph\n",
      "Number of nodes: 685\n",
      "Number of edges: 4648\n",
      "Average in degree:   6.7854\n",
      "Average out degree:   6.7854\n"
     ]
    }
   ],
   "source": [
    "GE = nx.read_graphml(urlopen(\"https://raw.githubusercontent.com/timathom/netsci/master/project/data/reduced/ego/ego.graphml\"))\n",
    "\n",
    "print(nx.info(GE))"
   ]
  },
  {
   "cell_type": "markdown",
   "metadata": {},
   "source": [
    "### Dedicators subgraph"
   ]
  },
  {
   "cell_type": "code",
   "execution_count": 4,
   "metadata": {
    "collapsed": false
   },
   "outputs": [
    {
     "name": "stdout",
     "output_type": "stream",
     "text": [
      "Name: \n",
      "Type: DiGraph\n",
      "Number of nodes: 213\n",
      "Number of edges: 495\n",
      "Average in degree:   2.3239\n",
      "Average out degree:   2.3239\n"
     ]
    }
   ],
   "source": [
    "GF = nx.read_graphml(urlopen(\"https://raw.githubusercontent.com/timathom/netsci/master/project/data/reduced/dedicators/dedicators.subgraph.graphml\"))\n",
    "\n",
    "print(nx.info(GF))"
   ]
  }
 ],
 "metadata": {
  "kernelspec": {
   "display_name": "Python 3",
   "language": "python",
   "name": "python3"
  },
  "language_info": {
   "codemirror_mode": {
    "name": "ipython",
    "version": 3
   },
   "file_extension": ".py",
   "mimetype": "text/x-python",
   "name": "python",
   "nbconvert_exporter": "python",
   "pygments_lexer": "ipython3",
   "version": "3.6.0"
  }
 },
 "nbformat": 4,
 "nbformat_minor": 2
}
